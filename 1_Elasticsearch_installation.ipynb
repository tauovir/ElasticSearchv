{
 "cells": [
  {
   "cell_type": "markdown",
   "id": "sublime-fetish",
   "metadata": {},
   "source": [
    "# Install and run elasticsearch on Ubuntu 18\n",
    "1. Download elasticsearch 7.8 tar file from  https://www.elastic.co/downloads/past-releases/elasticsearch-7-8-0\n",
    "2.  extract the downloaded folder\n",
    "3. open terminal in extracted folder and go to elasticsearch-7.8.0/bin\n",
    "4. type ./elasticsearch\n",
    "**example:** elasticsearch-7.8.0/bin> ./elasticsearch\n",
    "your elastic search running on http://127.0.0.1:9200/"
   ]
  },
  {
   "cell_type": "markdown",
   "id": "abandoned-start",
   "metadata": {},
   "source": [
    "# Install python package for elasticsearch\n",
    "**python -m pip install elasticsearch**"
   ]
  },
  {
   "cell_type": "code",
   "execution_count": 3,
   "id": "capital-elimination",
   "metadata": {},
   "outputs": [],
   "source": [
    "# Now test our elastic searchis running or not"
   ]
  },
  {
   "cell_type": "code",
   "execution_count": 5,
   "id": "covered-harvey",
   "metadata": {},
   "outputs": [],
   "source": [
    "# Import python package for elasticsearch\n",
    "from elasticsearch import Elasticsearch"
   ]
  },
  {
   "cell_type": "code",
   "execution_count": 7,
   "id": "overall-glenn",
   "metadata": {},
   "outputs": [
    {
     "name": "stdout",
     "output_type": "stream",
     "text": [
      "Elastic search engine is running........\n"
     ]
    }
   ],
   "source": [
    "host = 'http://localhost:9200/'\n",
    "index_name = 'my_index'\n",
    "doc_type = \"_doc\"\n",
    "elastic_search_obj = Elasticsearch([host])\n",
    "if not elastic_search_obj.ping():\n",
    "    print(\"Elasticsearch server is not running\")\n",
    "else:\n",
    "    print(\"Elastic search engine is running........\")\n"
   ]
  },
  {
   "cell_type": "markdown",
   "id": "overall-addiction",
   "metadata": {},
   "source": [
    "# Yap, We are ready to go ahead, Hurrrraaaaaaaa"
   ]
  }
 ],
 "metadata": {
  "kernelspec": {
   "display_name": "Python 3",
   "language": "python",
   "name": "python3"
  },
  "language_info": {
   "codemirror_mode": {
    "name": "ipython",
    "version": 3
   },
   "file_extension": ".py",
   "mimetype": "text/x-python",
   "name": "python",
   "nbconvert_exporter": "python",
   "pygments_lexer": "ipython3",
   "version": "3.6.9"
  }
 },
 "nbformat": 4,
 "nbformat_minor": 5
}
