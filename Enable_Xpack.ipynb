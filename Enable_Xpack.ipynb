{
 "cells": [
  {
   "cell_type": "markdown",
   "id": "english-dodge",
   "metadata": {},
   "source": [
    "# xpack \n",
    "In order to enable xpack security into your elastic search, follow below steps:<br>\n",
    "first we need to put **xpack.security.enabled: true** to config.yml file<br>\n",
    "restart the server and then run below command<br>\n",
    "**bin/elasticsearch-setup-passwords interactive**"
   ]
  },
  {
   "cell_type": "markdown",
   "id": "caring-analyst",
   "metadata": {},
   "source": [
    "Thre **interective** command lets you to set password for inbuild users in elastic search.<br>\n",
    "Below are inbult user with give password (for reference)<br>\n",
    "user: elastic, password :#####<br>\n",
    "user: apm_system, password :#####<br>\n",
    "user: kibana_system, password :#####<br>\n",
    "user: logstash_system, password :#####<br>\n",
    "user: beats_system, password :#####<br>\n",
    "user: remote_monitoring_user, password :#####<br>\n",
    "user: elastic, password :#####<br>\n",
    "\n"
   ]
  },
  {
   "cell_type": "markdown",
   "id": "lightweight-progress",
   "metadata": {},
   "source": [
    "# Set User for Kibana login\n",
    "Just open kibana.yml file and update below line in kibana.<br>\n",
    "elasticsearch.username: \"kibana_system\"<br>\n",
    "elasticsearch.password: \"khan123\""
   ]
  },
  {
   "cell_type": "markdown",
   "id": "deadly-worry",
   "metadata": {},
   "source": [
    "This setting lets you to login in kibana with user **'elastic'** and **password**(which you set at Xpack security).\n",
    "This login enable your to create user,role and many more."
   ]
  }
 ],
 "metadata": {
  "kernelspec": {
   "display_name": "Python 3",
   "language": "python",
   "name": "python3"
  },
  "language_info": {
   "codemirror_mode": {
    "name": "ipython",
    "version": 3
   },
   "file_extension": ".py",
   "mimetype": "text/x-python",
   "name": "python",
   "nbconvert_exporter": "python",
   "pygments_lexer": "ipython3",
   "version": "3.6.9"
  }
 },
 "nbformat": 4,
 "nbformat_minor": 5
}
