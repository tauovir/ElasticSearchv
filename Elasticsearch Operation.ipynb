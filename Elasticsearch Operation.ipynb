{
 "cells": [
  {
   "cell_type": "code",
   "execution_count": 2,
   "metadata": {},
   "outputs": [],
   "source": [
    "# Elastic Search Operation in Python\n",
    "# Install python elastic \"python -m pip install elasticsearch"
   ]
  },
  {
   "cell_type": "code",
   "execution_count": 21,
   "metadata": {},
   "outputs": [],
   "source": [
    "from elasticsearch import Elasticsearch\n",
    "from datetime import datetime"
   ]
  },
  {
   "cell_type": "code",
   "execution_count": 22,
   "metadata": {},
   "outputs": [
    {
     "name": "stdout",
     "output_type": "stream",
     "text": [
      "Elastic search engine is running........\n"
     ]
    }
   ],
   "source": [
    "#Inititalize Python Objec\n",
    "host = 'http://localhost:9200/'\n",
    "index_name = 'demo'\n",
    "doc_type = \"_doc\"\n",
    "elastic_search_obj = Elasticsearch([host])\n",
    "if not elastic_search_obj.ping():\n",
    "    print(\"Elasticsearch server is not running\")\n",
    "else:\n",
    "    print(\"Elastic search engine is running........\")"
   ]
  },
  {
   "cell_type": "code",
   "execution_count": 25,
   "metadata": {},
   "outputs": [],
   "source": [
    "#Now Create demo document to insert in elastic index \n",
    "def get_data():\n",
    "    document = {\n",
    "    'name': 'Michal',\n",
    "    'company': 'Appvision',\n",
    "    'slary': 50000,\n",
    "    'country':'India',\n",
    "        \n",
    "    'timestamp': datetime.now(),\n",
    "    }\n",
    "    return document"
   ]
  },
  {
   "cell_type": "code",
   "execution_count": 27,
   "metadata": {},
   "outputs": [
    {
     "name": "stdout",
     "output_type": "stream",
     "text": [
      "created\n"
     ]
    }
   ],
   "source": [
    "# lets create our first elastic index\n",
    "res = elastic_search_obj.index(index=index_name, body=get_data())\n",
    "print(res['result'])"
   ]
  },
  {
   "cell_type": "code",
   "execution_count": 31,
   "metadata": {},
   "outputs": [
    {
     "name": "stdout",
     "output_type": "stream",
     "text": [
      "Got 2 Hits:\n",
      "{'name': 'Michal', 'company': 'Appvision', 'slary': 50000, 'country': 'India', 'timestamp': '2020-10-26T23:24:38.552216'}\n",
      "{'name': 'Michal', 'company': 'Appvision', 'slary': 50000, 'country': 'India', 'timestamp': '2020-10-26T23:25:22.538918'}\n"
     ]
    }
   ],
   "source": [
    "# searhc all data\n",
    "res = elastic_search_obj.search(index=index_name, body={\"query\": {\"match_all\": {}}})\n",
    "print(\"Got %d Hits:\" % res['hits']['total']['value'])\n",
    "for hit in res['hits']['hits']:\n",
    "    print(hit[\"_source\"])"
   ]
  },
  {
   "cell_type": "code",
   "execution_count": null,
   "metadata": {},
   "outputs": [],
   "source": [
    "# Sum Browser link to check your index\n",
    "\"\"\"\n",
    "http://localhost:9200/provider_core_data_2/_doc/39814771038?pretty\n",
    "http://127.0.0.1:9200/_cat/indices?v\n",
    "http://127.0.0.1:9200/provider_core_data_2/_search?pretty\n",
    "http://localhost:9200/provider_core_data_3/_count?pretty\n",
    "http://localhost:9200/provider_core_data_3/_search?q=provider_id:383\n",
    "http://localhost:9200/provider_core_data_3/_search?q=provider_id:383&pretty\n",
    "\n",
    "\n",
    "\"\"\""
   ]
  }
 ],
 "metadata": {
  "kernelspec": {
   "display_name": "Python 3",
   "language": "python",
   "name": "python3"
  },
  "language_info": {
   "codemirror_mode": {
    "name": "ipython",
    "version": 3
   },
   "file_extension": ".py",
   "mimetype": "text/x-python",
   "name": "python",
   "nbconvert_exporter": "python",
   "pygments_lexer": "ipython3",
   "version": "3.8.2"
  }
 },
 "nbformat": 4,
 "nbformat_minor": 4
}
