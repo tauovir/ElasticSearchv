{
 "cells": [
  {
   "cell_type": "markdown",
   "id": "active-steal",
   "metadata": {},
   "source": [
    "# In this session we are going to create ealstic indices and perform some basic operations"
   ]
  },
  {
   "cell_type": "code",
   "execution_count": 4,
   "id": "offshore-applicant",
   "metadata": {},
   "outputs": [],
   "source": [
    "# Import elastic search module\n",
    "from elasticsearch import Elasticsearch"
   ]
  },
  {
   "cell_type": "code",
   "execution_count": 6,
   "id": "maritime-theta",
   "metadata": {},
   "outputs": [
    {
     "name": "stdout",
     "output_type": "stream",
     "text": [
      "Elastic search engine is running........\n"
     ]
    }
   ],
   "source": [
    "host = 'http://localhost:9200/'\n",
    "index_name = 'my_index'\n",
    "doc_type = \"_doc\"\n",
    "elastic_obj = Elasticsearch([host]) # elastci_object\n",
    "if not elastic_search_obj.ping():\n",
    "    print(\"Elasticsearch server is not running\")\n",
    "else:\n",
    "    print(\"Elastic search engine is running........\")\n"
   ]
  },
  {
   "cell_type": "code",
   "execution_count": 4,
   "id": "killing-roller",
   "metadata": {},
   "outputs": [],
   "source": [
    "# Create some sample data to make index"
   ]
  },
  {
   "cell_type": "code",
   "execution_count": 5,
   "id": "threatened-singer",
   "metadata": {},
   "outputs": [],
   "source": [
    "document = {\n",
    "    'name': 'khan',\n",
    "    'city': 'meerut',\n",
    "    'fav_color':'black' ,\n",
    "    'mobile':'black' ,\n",
    "}"
   ]
  },
  {
   "cell_type": "code",
   "execution_count": 9,
   "id": "emerging-brooklyn",
   "metadata": {},
   "outputs": [
    {
     "data": {
      "text/plain": [
       "{'_index': 'my_first_index',\n",
       " '_type': '_doc',\n",
       " '_id': 'HiBpK3cBEuIuCErHKuwn',\n",
       " '_version': 1,\n",
       " 'result': 'created',\n",
       " '_shards': {'total': 2, 'successful': 1, 'failed': 0},\n",
       " '_seq_no': 0,\n",
       " '_primary_term': 1}"
      ]
     },
     "execution_count": 9,
     "metadata": {},
     "output_type": "execute_result"
    }
   ],
   "source": [
    "# Create first index, Are you exited to create!,hmmm\n",
    "response = elastic_obj.index(index=\"my_first_index\", body=document)\n",
    "response"
   ]
  },
  {
   "cell_type": "markdown",
   "id": "equal-kuwait",
   "metadata": {},
   "source": [
    "# List of indices\n",
    "you can check list of indices on browser http://127.0.0.1:9200/_cat/indices?v\n"
   ]
  },
  {
   "cell_type": "markdown",
   "id": "intelligent-fault",
   "metadata": {},
   "source": [
    "# Insert bulk Data\n",
    "In order to insert bulk data, we need make elastic format so that wen can ingest them"
   ]
  },
  {
   "cell_type": "code",
   "execution_count": 16,
   "id": "wound-anthony",
   "metadata": {},
   "outputs": [],
   "source": [
    "# Now create index with multiple records\n",
    "\n",
    "records = [\n",
    "    {'name': 'khan','city': 'meerut','fav_color':'black' ,'zipcode':'25001' },\n",
    "    {'name': 'Rahul','city': 'Delhi','fav_color':'Blue' ,'zipcode':'190001' },\n",
    "    {'name': 'Rohit','city': 'Mohali','fav_color':'white' ,'zipcode':'20009' },\n",
    "    {'name': 'Aneesh','city': 'Noida','fav_color':'black' ,'zipcode':'500001' },\n",
    "    {'name': 'Milan','city': 'Delhi','fav_color':'black' ,'zipcode':'100019' },\n",
    "]\n"
   ]
  },
  {
   "cell_type": "code",
   "execution_count": 19,
   "id": "agreed-costs",
   "metadata": {},
   "outputs": [],
   "source": [
    "# This is standard elasticsearch format, we need to make it to inser bulk data\n",
    "elastic_data = []\n",
    "def __elastic_format(row):\n",
    "    return {\"_index\": \"bulk_index\", \"_doc\":\"_doc\", \"_source\": row}\n",
    "\n",
    "\n",
    "for row in records:\n",
    "    formatted_data = __elastic_format(row)\n",
    "    elastic_data.append(formatted_data)\n",
    "    "
   ]
  },
  {
   "cell_type": "code",
   "execution_count": 21,
   "id": "martial-diana",
   "metadata": {},
   "outputs": [],
   "source": [
    "from elasticsearch.helpers import bulk"
   ]
  },
  {
   "cell_type": "code",
   "execution_count": 22,
   "id": "crude-assessment",
   "metadata": {},
   "outputs": [
    {
     "data": {
      "text/plain": [
       "(5, [])"
      ]
     },
     "execution_count": 22,
     "metadata": {},
     "output_type": "execute_result"
    }
   ],
   "source": [
    "bulk(elastic_obj, elastic_data)"
   ]
  },
  {
   "cell_type": "markdown",
   "id": "decent-killing",
   "metadata": {},
   "source": [
    "# Create custom Mapping\n",
    "If we do not provide mapping/schema of dataset, elasticsearch is enough intelligent, it creates own mapping and \n",
    "serve request perfectly. we can see default mapping here ;http://127.0.0.1:9200/bulk_index/_mapping?pretty\n",
    "here bulk_index is our created index,\n",
    "**Elasticsearch**, is quite cool handle all things smoothly but in serveral cases we need custom mapping,so\n",
    "Lets create our own mapping,\n",
    "\n"
   ]
  },
  {
   "cell_type": "code",
   "execution_count": 24,
   "id": "visible-episode",
   "metadata": {},
   "outputs": [],
   "source": [
    " data_mapping = {\"mappings\":\n",
    "            {\n",
    "            \"properties\":{\n",
    "\n",
    "            \"id\": {\n",
    "                \"type\": \"text\"\n",
    "            },\n",
    "            \"person_id\": {\n",
    "                \"type\": \"integer\"\n",
    "            },\n",
    "\n",
    "            \"full_name\": {\n",
    "                \"type\": \"text\"\n",
    "            },\n",
    "            \"dob\": {\n",
    "                \"type\": \"date\"\n",
    "            },\n",
    "\n",
    "            \"national_id\": {\n",
    "                \"type\": \"text\"\n",
    "            },\n",
    "            \"gender\": {\n",
    "                \"type\": \"text\"\n",
    "            },\n",
    "            \"create_date\": {\n",
    "                \"type\": \"date\",\n",
    "                \"format\": \"yyyy-MM-dd\"\n",
    "            },\n",
    "            \"passport_number\": {\n",
    "                \"type\": \"text\"\n",
    "            },\n",
    "\n",
    "        \"status\": {\n",
    "            \"type\": \"text\"\n",
    "        },\n",
    "        }\n",
    "            }\n",
    "        }\n"
   ]
  },
  {
   "cell_type": "code",
   "execution_count": 30,
   "id": "green-still",
   "metadata": {},
   "outputs": [],
   "source": [
    "data_list = [{\"status\": \"Verified\", \"create_date\": \"2020-03-04\", \"passport_number\": 'PR10001', \"dob\": \"1983-09-22\", \"gender\": \"Female\", \"full_name\": \"Nevania Naidoo\", \"national_id\": 'IN1200001', \"person_id\": 1166, \"id\": \"1166165\"},\n",
    "           {\"status\": \"Verified\", \"create_date\": \"2020-03-05\", \"passport_number\": 'PR10002', \"dob\": \"1983-03-22\", \"gender\": \"Female\", \"full_name\": \"Toni Mseleku\", \"national_id\": 'IN1299991', \"person_id\": 1167, \"id\": \"1167166\"},\n",
    "           {\"status\": \"Unverified\", \"create_date\": \"2020-03-05\", \"passport_number\": 'PR10003', \"dob\": \"1963-05-16\", \"gender\": \"Female\", \"full_name\": \"Brenda Tomlinsan\", \"national_id\": 'IN1282828', \"person_id\": 1169, \"id\": \"1169167\"},\n",
    "           {\"status\": \"Unverified\", \"create_date\": \"2020-03-05\", \"passport_number\": 'PR10004', \"dob\": \"1972-06-05\", \"gender\": \"Female\", \"full_name\": \"primrose lembede\", \"national_id\": 'IN1342442', \"person_id\": 1170, \"id\": \"1170168\"},\n",
    "           {\"status\": \"Unverified\", \"create_date\": \"2020-03-05\", \"passport_number\": 'PR10005', \"dob\": \"1971-08-15\", \"gender\": \"Male\", \"full_name\": \"sifiso gumede\", \"national_id\": None, \"person_id\": 1185, \"id\": \"1185169\"},\n",
    "           {\"status\": \"Verified\", \"create_date\": \"2020-04-13\", \"passport_number\": 'PR10006', \"dob\": \"1987-05-05\", \"gender\": \"Male\", \"full_name\": \"Han K\", \"national_id\": None, \"person_id\": 1398, \"id\": \"1398170\"},\n",
    "           {\"status\": \"Verified\", \"create_date\": \"2020-04-14\", \"passport_number\": 'PR10007', \"dob\": \"1979-09-15\", \"gender\": \"Male\", \"full_name\": \"Ronald Abvajee\", \"national_id\": None, \"person_id\": 1399, \"id\": \"1399171\"},\n",
    "           {\"status\": \"Unverified\", \"create_date\": \"2020-05-11\", \"passport_number\": 'PR10008', \"dob\": \"1976-02-25\", \"gender\": \"Female\", \"full_name\": \"Cathryn  Pearman \", \"national_id\": None, \"person_id\": 1403, \"id\": \"1403172\"}, \n",
    "           {\"status\": \"Verified\", \"create_date\": \"2020-05-12\", \"passport_number\": 'PR10001', \"dob\": \"1987-05-05\", \"gender\": \"Female\", \"full_name\": \"Individual Member\", \"national_id\": None, \"person_id\": 1404, \"id\": \"1404173\"}, \n",
    "           {\"status\": \"Verified\", \"create_date\": \"2020-06-05\", \"passport_number\": None, \"dob\": \"1980-02-05\", \"gender\": \"Female\", \"full_name\": \"Super Admin\", \"national_id\": None, \"person_id\": 1413, \"id\": \"1413175\"}, \n",
    "           {\"status\": \"Unverified\", \"create_date\": \"2020-07-15\", \"passport_number\": None, \"dob\": \"1991-11-15\", \"gender\": \"Male\", \"full_name\": \"Roman Seth\", \"national_id\": None, \"person_id\": 1424, \"id\": \"1424176\"}, \n",
    "           {\"status\": \"Verified\", \"create_date\": \"2020-08-05\", \"passport_number\": None, \"dob\": \"1988-01-01\", \"gender\": \"Female\", \"full_name\": \"Patient User\", \"national_id\": None, \"person_id\": 1425, \"id\": \"1425177\"}, \n",
    "           {\"status\": \"Unverified\", \"create_date\": \"2020-10-05\", \"passport_number\": None, \"dob\": \"1949-12-11\", \"gender\": \"Male\", \"full_name\": \"Paul van der Merwe\", \"national_id\": None, \"person_id\": 1432, \"id\": \"1432178\"}, \n",
    "           {\"status\": \"Verified\", \"create_date\": \"2019-01-25\", \"passport_number\": None, \"dob\": \"1992-04-17\", \"gender\": \"Female\", \"full_name\": \"Aneesh Kumar\", \"national_id\": \"12\", \"person_id\": 802, \"id\": \"802137\"}, \n",
    "           {\"status\": \"Unverified\", \"create_date\": \"2020-11-09\", \"passport_number\": None, \"dob\": \"1989-02-02\", \"gender\": \"Female\", \"full_name\": \"Kumar Sanu\", \"national_id\": None, \"person_id\": 1472, \"id\": \"1472179\"},\n",
    "           {\"status\": \"Verified\", \"create_date\": \"2020-06-05\", \"passport_number\": None, \"dob\": \"1990-02-07\", \"gender\": \"Male\", \"full_name\": \"George  Hugo\", \"national_id\": None, \"person_id\": 1411, \"id\": \"1411174\"}, \n",
    "           {\"status\": \"Unverified\", \"create_date\": \"2020-11-17\", \"passport_number\": None, \"dob\": \"1983-07-10\", \"gender\": \"Male\", \"full_name\": \"Yusuf  Bokhary \", \"national_id\": None, \"person_id\": 1513, \"id\": \"1513180\"}, \n",
    "           {\"status\": \"Unverified\", \"create_date\": \"2020-12-04\", \"passport_number\": None, \"dob\": \"1980-12-31\", \"gender\": \"Male\", \"full_name\": \"Mmener3 Bansa\", \"national_id\": None, \"person_id\": 1529, \"id\": \"1529181\"}, \n",
    "           {\"status\": \"Unverified\", \"create_date\": \"2020-12-04\", \"passport_number\": None, \"dob\": \"1980-12-15\", \"gender\": \"Female\", \"full_name\": \"A B\", \"national_id\": None, \"person_id\": 1530, \"id\": \"1530182\"}, \n",
    "           \n",
    "           ]\n"
   ]
  },
  {
   "cell_type": "code",
   "execution_count": 31,
   "id": "careful-differential",
   "metadata": {},
   "outputs": [
    {
     "data": {
      "text/plain": [
       "19"
      ]
     },
     "execution_count": 31,
     "metadata": {},
     "output_type": "execute_result"
    }
   ],
   "source": [
    "elastic_data1 = []\n",
    "for row in data_list:\n",
    "    formatted_data = __elastic_format(row)\n",
    "    elastic_data1.append(formatted_data)\n",
    "    \n",
    "len(elastic_data1)"
   ]
  },
  {
   "cell_type": "code",
   "execution_count": 32,
   "id": "indonesian-serial",
   "metadata": {},
   "outputs": [
    {
     "data": {
      "text/plain": [
       "(19, [])"
      ]
     },
     "execution_count": 32,
     "metadata": {},
     "output_type": "execute_result"
    }
   ],
   "source": [
    "# Create new instance of elastcisearch\n",
    "elastic_obj2 = Elasticsearch([host]) # elastci_object\n",
    "# Create index with mapping\n",
    "\n",
    "res = elastic_obj.indices.create(index = 'mapping_index1',ignore=400,body = data_mapping)\n",
    "# Now insert our data\n",
    "bulk(elastic_obj2, elastic_data1)"
   ]
  },
  {
   "cell_type": "markdown",
   "id": "practical-minister",
   "metadata": {},
   "source": [
    "# Delete Indices"
   ]
  },
  {
   "cell_type": "code",
   "execution_count": 8,
   "id": "continuous-anchor",
   "metadata": {},
   "outputs": [
    {
     "data": {
      "text/plain": [
       "{'acknowledged': True}"
      ]
     },
     "execution_count": 8,
     "metadata": {},
     "output_type": "execute_result"
    }
   ],
   "source": [
    "res = elastic_obj2.indices.delete(index='market_data', ignore=[400, 404])\n",
    "res"
   ]
  },
  {
   "cell_type": "markdown",
   "id": "marked-silver",
   "metadata": {},
   "source": [
    "# ElasticSearch Info"
   ]
  },
  {
   "cell_type": "code",
   "execution_count": 38,
   "id": "paperback-colonial",
   "metadata": {},
   "outputs": [
    {
     "data": {
      "text/plain": [
       "{'name': 'nyalazone-Latitude-3400',\n",
       " 'cluster_name': 'elasticsearch',\n",
       " 'cluster_uuid': 'O7Rm7nm8SSOhttajAyHq2g',\n",
       " 'version': {'number': '7.8.0',\n",
       "  'build_flavor': 'default',\n",
       "  'build_type': 'tar',\n",
       "  'build_hash': '757314695644ea9a1dc2fecd26d1a43856725e65',\n",
       "  'build_date': '2020-06-14T19:35:50.234439Z',\n",
       "  'build_snapshot': False,\n",
       "  'lucene_version': '8.5.1',\n",
       "  'minimum_wire_compatibility_version': '6.8.0',\n",
       "  'minimum_index_compatibility_version': '6.0.0-beta1'},\n",
       " 'tagline': 'You Know, for Search'}"
      ]
     },
     "execution_count": 38,
     "metadata": {},
     "output_type": "execute_result"
    }
   ],
   "source": [
    "elastic_info = Elasticsearch.info(elastic_obj2)\n",
    "elastic_info"
   ]
  },
  {
   "cell_type": "markdown",
   "id": "arctic-simulation",
   "metadata": {},
   "source": [
    "# Get all Elastic Search Indices"
   ]
  },
  {
   "cell_type": "code",
   "execution_count": 40,
   "id": "incoming-resolution",
   "metadata": {},
   "outputs": [
    {
     "data": {
      "text/plain": [
       "{'provider_search_v1': {'aliases': {}},\n",
       " 'mapping_index': {'aliases': {}},\n",
       " 'provider_search_v3': {'aliases': {}},\n",
       " 'mapping_index1': {'aliases': {}},\n",
       " 'my_second_index': {'aliases': {}},\n",
       " 'bulk_index': {'aliases': {}},\n",
       " 'my_first_index': {'aliases': {}},\n",
       " 'provider_search_v2': {'aliases': {}},\n",
       " 'provider_search_els': {'aliases': {}},\n",
       " 'search_corporate_member_index': {'aliases': {}},\n",
       " 'search_member_index': {'aliases': {}}}"
      ]
     },
     "execution_count": 40,
     "metadata": {},
     "output_type": "execute_result"
    }
   ],
   "source": [
    "all_indices = elastic_obj.indices.get_alias(\"*\")\n",
    "all_indices\n",
    "    "
   ]
  },
  {
   "cell_type": "markdown",
   "id": "excited-chicken",
   "metadata": {},
   "source": [
    "# Get mapping of individual index"
   ]
  },
  {
   "cell_type": "code",
   "execution_count": 43,
   "id": "announced-bristol",
   "metadata": {},
   "outputs": [
    {
     "data": {
      "text/plain": [
       "{'mapping_index1': {'mappings': {'properties': {'create_date': {'type': 'date',\n",
       "     'format': 'yyyy-MM-dd'},\n",
       "    'dob': {'type': 'date'},\n",
       "    'full_name': {'type': 'text'},\n",
       "    'gender': {'type': 'text'},\n",
       "    'id': {'type': 'text'},\n",
       "    'national_id': {'type': 'text'},\n",
       "    'passport_number': {'type': 'text'},\n",
       "    'person_id': {'type': 'integer'},\n",
       "    'status': {'type': 'text'}}}}}"
      ]
     },
     "execution_count": 43,
     "metadata": {},
     "output_type": "execute_result"
    }
   ],
   "source": [
    "mapping = elastic_obj.indices.get_mapping('mapping_index1')\n",
    "mapping"
   ]
  },
  {
   "cell_type": "code",
   "execution_count": 1,
   "id": "identified-webster",
   "metadata": {},
   "outputs": [],
   "source": [
    "#===================================Now we are ready to perform search operation on elastic search================"
   ]
  }
 ],
 "metadata": {
  "kernelspec": {
   "display_name": "Python 3",
   "language": "python",
   "name": "python3"
  },
  "language_info": {
   "codemirror_mode": {
    "name": "ipython",
    "version": 3
   },
   "file_extension": ".py",
   "mimetype": "text/x-python",
   "name": "python",
   "nbconvert_exporter": "python",
   "pygments_lexer": "ipython3",
   "version": "3.6.9"
  }
 },
 "nbformat": 4,
 "nbformat_minor": 5
}
